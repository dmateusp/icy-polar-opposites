{
 "cells": [
  {
   "cell_type": "code",
   "execution_count": null,
   "metadata": {
    "ExecuteTime": {
     "end_time": "2017-04-30T11:21:17.989029",
     "start_time": "2017-04-30T11:21:16.349936"
    },
    "collapsed": false
   },
   "outputs": [],
   "source": [
    "# Basic libraries import\n",
    "import numpy as np\n",
    "import pandas as pd\n",
    "import seaborn as sns\n",
    "import h5py\n",
    "from datetime import datetime\n",
    "\n",
    "import os\n",
    "\n",
    "# Plotting\n",
    "%matplotlib notebook\n",
    "#%matplotlib inline\n",
    "\n",
    "sns.set_context(\"notebook\", font_scale=1.5)"
   ]
  },
  {
   "cell_type": "markdown",
   "metadata": {
    "heading_collapsed": true
   },
   "source": [
    "# IDHDT Data"
   ]
  },
  {
   "cell_type": "code",
   "execution_count": null,
   "metadata": {
    "ExecuteTime": {
     "end_time": "2017-04-29T12:04:27.593684",
     "start_time": "2017-04-29T12:04:27.529680"
    },
    "collapsed": false,
    "hidden": true
   },
   "outputs": [],
   "source": [
    "filename = \"IDHDT4_2015-2014_ATM_dhdt_canada.csv\"\n",
    "data = pd.read_csv(os.path.join(os.path.pardir, \"data\", filename))"
   ]
  },
  {
   "cell_type": "code",
   "execution_count": null,
   "metadata": {
    "ExecuteTime": {
     "end_time": "2017-04-29T12:04:32.714977",
     "start_time": "2017-04-29T12:04:32.680975"
    },
    "collapsed": false,
    "hidden": true
   },
   "outputs": [],
   "source": [
    "data.head()"
   ]
  },
  {
   "cell_type": "markdown",
   "metadata": {
    "heading_collapsed": true
   },
   "source": [
    "# ILATM Data"
   ]
  },
  {
   "cell_type": "code",
   "execution_count": null,
   "metadata": {
    "ExecuteTime": {
     "end_time": "2017-04-29T16:03:22.019566",
     "start_time": "2017-04-29T16:03:21.998565"
    },
    "collapsed": false,
    "hidden": true
   },
   "outputs": [],
   "source": [
    "def convert_to_df(dirpath, filename):\n",
    "    with h5py.File(os.path.join(dirpath, filename)) as f:\n",
    "        df = pd.DataFrame()\n",
    "        df['longitude'] = f['longitude'][:]\n",
    "        df['elevation'] = f['elevation'][:]\n",
    "        df['latitude'] = f['latitude'][:]\n",
    "        date = datetime.strptime(filename.split('_', 1)[1].split('.')[0], '%Y%m%d_%H%M%S')\n",
    "        df['datetime'] = date\n",
    "    return df"
   ]
  },
  {
   "cell_type": "code",
   "execution_count": null,
   "metadata": {
    "ExecuteTime": {
     "end_time": "2017-04-29T16:35:02.327257",
     "start_time": "2017-04-29T16:35:01.902233"
    },
    "collapsed": false,
    "hidden": true
   },
   "outputs": [],
   "source": [
    "dirpath = os.path.join(os.path.pardir, \"data\", 'leveldata_1')\n",
    "dfs = []\n",
    "for filename in os.listdir(dirpath):\n",
    "    dfs.append(convert_to_df(dirpath, filename))"
   ]
  },
  {
   "cell_type": "code",
   "execution_count": null,
   "metadata": {
    "ExecuteTime": {
     "end_time": "2017-04-29T16:35:03.906348",
     "start_time": "2017-04-29T16:35:03.760339"
    },
    "collapsed": false,
    "hidden": true
   },
   "outputs": [],
   "source": [
    "res_df = pd.concat(dfs, ignore_index=True)\n",
    "res_df.to_csv('', index_label=False)\n",
    "res_df.to_json('', orient = 'records')"
   ]
  },
  {
   "cell_type": "markdown",
   "metadata": {},
   "source": [
    "# IRMCR2 Data\n",
    "http://nsidc.org/data/IRMCR2#\n",
    "\n",
    "Coverage of both south and north pole.\n",
    "from 16 October 2009 to 15 May 2015.\n",
    "\n",
    "Total of 641 granules\n",
    "\n",
    "206 for south\n",
    "\n",
    "408 for north"
   ]
  },
  {
   "cell_type": "code",
   "execution_count": null,
   "metadata": {
    "ExecuteTime": {
     "end_time": "2017-04-30T11:21:19.909139",
     "start_time": "2017-04-30T11:21:19.899139"
    },
    "collapsed": true
   },
   "outputs": [],
   "source": [
    "def convert_input(dirpath, filename):\n",
    "    df = pd.read_csv(os.path.join(dirpath, filename))\n",
    "    # filter invalid entries\n",
    "    df = df[(df['THICK']>-9998) & (df['SURFACE']>-9998)]\n",
    "    # add date from filename\n",
    "    date = datetime.strptime(filename.split('_')[1], '%Y%m%d')\n",
    "    df['DATE'] = date\n",
    "    # filter by quality\n",
    "    df = df[df['QUALITY']==1]\n",
    "    # remove unused features\n",
    "    df = df.drop(['TIME', 'FRAME', 'QUALITY', 'SURFACE', 'ELEVATION', 'BOTTOM'], axis=1)\n",
    "    return df"
   ]
  },
  {
   "cell_type": "code",
   "execution_count": null,
   "metadata": {
    "ExecuteTime": {
     "end_time": "2017-04-30T13:35:58.814226",
     "start_time": "2017-04-30T13:35:30.396601"
    },
    "collapsed": true
   },
   "outputs": [],
   "source": [
    "# load all data\n",
    "dirpath = os.path.join(os.path.pardir, \"data\", 'IRMCR2_south')\n",
    "dfs = []\n",
    "for filename in os.listdir(dirpath):\n",
    "    dfs.append(convert_input(dirpath, filename))"
   ]
  },
  {
   "cell_type": "code",
   "execution_count": null,
   "metadata": {
    "ExecuteTime": {
     "end_time": "2017-04-30T13:36:51.687250",
     "start_time": "2017-04-30T13:36:40.318600"
    },
    "collapsed": false
   },
   "outputs": [],
   "source": [
    "# concat data into single df\n",
    "res_df = pd.concat(dfs, ignore_index=True).rename(index=str, columns={'LAT':'lat','LON':'lon','THICK':'thickness', 'DATE':'date'})"
   ]
  },
  {
   "cell_type": "code",
   "execution_count": null,
   "metadata": {
    "ExecuteTime": {
     "end_time": "2017-04-30T13:38:56.486388",
     "start_time": "2017-04-30T13:37:04.087960"
    },
    "collapsed": false
   },
   "outputs": [],
   "source": [
    "# export\n",
    "res_df.to_csv(os.path.join(os.path.pardir, 'data', 'IRMCR2_south.csv'), index_label=False)\n",
    "res_df.to_json(os.path.join(os.path.pardir, 'data', 'IRMCR2_south.json'), orient = 'records')"
   ]
  },
  {
   "cell_type": "markdown",
   "metadata": {},
   "source": [
    "## Average Thickness"
   ]
  },
  {
   "cell_type": "code",
   "execution_count": null,
   "metadata": {
    "ExecuteTime": {
     "end_time": "2017-04-30T13:42:48.513660",
     "start_time": "2017-04-30T13:42:46.638552"
    },
    "collapsed": false
   },
   "outputs": [],
   "source": [
    "# average thickness by year and month\n",
    "thick_avg = res_df.groupby([res_df['date'].dt.year, res_df['date'].dt.month])[['thickness']].agg('mean')\n",
    "thick_avg.index.names = ['year', 'month']\n",
    "thick_avg.reset_index().to_json(os.path.join(os.path.pardir, 'data', 'IRMCR2_south_thick.json'), orient = 'records')"
   ]
  },
  {
   "cell_type": "markdown",
   "metadata": {},
   "source": [
    "# IR2HI Data"
   ]
  },
  {
   "cell_type": "code",
   "execution_count": null,
   "metadata": {
    "ExecuteTime": {
     "end_time": "2017-04-29T17:32:17.446735",
     "start_time": "2017-04-29T17:32:17.440735"
    },
    "collapsed": true
   },
   "outputs": [],
   "source": [
    "filename = 'IR2HI2_2013010_CLH_JKB2h_X18a_icethk.txt'"
   ]
  },
  {
   "cell_type": "code",
   "execution_count": null,
   "metadata": {
    "ExecuteTime": {
     "end_time": "2017-04-29T17:33:15.176037",
     "start_time": "2017-04-29T17:33:15.050030"
    },
    "collapsed": false
   },
   "outputs": [],
   "source": [
    "pd.read_csv(os.path.join(os.path.pardir, \"data\", 'ice_thickness', filename), comment='#', sep='\\s')"
   ]
  }
 ],
 "metadata": {
  "anaconda-cloud": {},
  "kernelspec": {
   "display_name": "Python [conda env:kaggle]",
   "language": "python",
   "name": "conda-env-kaggle-py"
  },
  "language_info": {
   "codemirror_mode": {
    "name": "ipython",
    "version": 3
   },
   "file_extension": ".py",
   "mimetype": "text/x-python",
   "name": "python",
   "nbconvert_exporter": "python",
   "pygments_lexer": "ipython3",
   "version": "3.5.2"
  },
  "toc": {
   "colors": {
    "hover_highlight": "#DAA520",
    "running_highlight": "#FF0000",
    "selected_highlight": "#FFD700"
   },
   "moveMenuLeft": true,
   "nav_menu": {
    "height": "12px",
    "width": "252px"
   },
   "navigate_menu": true,
   "number_sections": true,
   "sideBar": true,
   "threshold": 4,
   "toc_cell": false,
   "toc_section_display": "block",
   "toc_window_display": false
  }
 },
 "nbformat": 4,
 "nbformat_minor": 0
}
