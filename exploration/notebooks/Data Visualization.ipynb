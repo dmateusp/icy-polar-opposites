{
 "cells": [
  {
   "cell_type": "code",
   "execution_count": null,
   "metadata": {
    "ExecuteTime": {
     "end_time": "2017-04-30T09:59:20.932790",
     "start_time": "2017-04-30T09:59:20.908789"
    },
    "collapsed": false
   },
   "outputs": [],
   "source": [
    "# Basic libraries import\n",
    "import numpy as np\n",
    "import pandas as pd\n",
    "import seaborn as sns\n",
    "\n",
    "import os\n",
    "\n",
    "# Plotting\n",
    "#%matplotlib\n",
    "%matplotlib notebook\n",
    "#%matplotlib inline\n",
    "\n",
    "sns.set_context(\"paper\", font_scale=1)"
   ]
  },
  {
   "cell_type": "markdown",
   "metadata": {
    "ExecuteTime": {
     "end_time": "2017-04-30T08:32:50.191994",
     "start_time": "2017-04-30T08:32:50.188994"
    }
   },
   "source": [
    "# Load Data\n",
    "**data source**  \n",
    "https://nsidc.org/data/seaice_index/archives.html"
   ]
  },
  {
   "cell_type": "code",
   "execution_count": null,
   "metadata": {
    "ExecuteTime": {
     "end_time": "2017-04-30T15:36:39.119348",
     "start_time": "2017-04-30T15:36:39.101347"
    },
    "collapsed": false
   },
   "outputs": [],
   "source": [
    "def load_data(filename):\n",
    "    dirpath = os.path.join(os.path.pardir, 'data')\n",
    "    df = pd.read_csv(os.path.join(dirpath, filename), comment='#').drop(['Missing', 'Source Data'], axis=1)\n",
    "    # Discard day and keep the average\n",
    "    df = df.groupby(['Year', 'Month'])[['Extent']].mean().reset_index()\n",
    "    year_df = df.groupby('Year', as_index=False)[['Extent']].mean()\n",
    "    return df, year_df"
   ]
  },
  {
   "cell_type": "code",
   "execution_count": null,
   "metadata": {
    "ExecuteTime": {
     "end_time": "2017-04-30T15:36:39.417365",
     "start_time": "2017-04-30T15:36:39.307359"
    },
    "collapsed": false
   },
   "outputs": [],
   "source": [
    "n_data, n_yearly_data = load_data('N_seaice_extent_daily_v2.1.csv')\n",
    "s_data, s_yearly_data = load_data('S_seaice_extent_daily_v2.1.csv')"
   ]
  },
  {
   "cell_type": "code",
   "execution_count": null,
   "metadata": {
    "ExecuteTime": {
     "end_time": "2017-04-30T15:36:39.921394",
     "start_time": "2017-04-30T15:36:39.907393"
    },
    "collapsed": false
   },
   "outputs": [],
   "source": [
    "n_yearly_data.head()"
   ]
  },
  {
   "cell_type": "markdown",
   "metadata": {},
   "source": [
    "# Animations"
   ]
  },
  {
   "cell_type": "code",
   "execution_count": null,
   "metadata": {
    "ExecuteTime": {
     "end_time": "2017-04-30T08:42:48.339109",
     "start_time": "2017-04-30T08:42:47.891083"
    },
    "collapsed": false
   },
   "outputs": [],
   "source": [
    "# square animation\n",
    "from matplotlib import pyplot as plt, animation\n",
    "import matplotlib.patches as patches\n",
    "fig, ax = plt.subplots()\n",
    "ax.set_xlim([0,20])\n",
    "ax.set_ylim([5,20])\n",
    "rectangle = patches.Rectangle((0, 0), 0, 0)\n",
    "epoch_text = sns.plt.text(0, 19, \"Start\")\n",
    "note = sns.plt.text(0, 15, \"Start\")\n",
    "ax.set_title(\"Daily Sea Ice Extent Northern Hemisphere\")\n",
    "ax.set_ylabel('Extent (10^6 sq km)')\n",
    "#sns.plt.show()\n",
    "y_rectangle = patches.Rectangle((0, 0), 0, 0)\n",
    "ax.add_patch(rectangle)\n",
    "ax.add_patch(y_rectangle)\n",
    "\n",
    "def animate(i):\n",
    "    entry = df.iloc[i,:]\n",
    "    year = int(entry['Year'])\n",
    "    prev_year = int(df.iloc[i-1]['Year'])\n",
    "    if year != prev_year:\n",
    "        average = g_df.loc[prev_year]['Extent']\n",
    "        y_rectangle = patches.Rectangle((0, 0), average, average, fill=False)\n",
    "        ax.add_patch(y_rectangle)\n",
    "        note.set_text('{} average'.format(prev_year))\n",
    "        note.set_position((15, average-1))\n",
    "    rectangle.set_width(entry['Extent'])\n",
    "    rectangle.set_height(entry['Extent'])\n",
    "    epoch_text.set_text(\"Extent for {} - {}\".format(int(entry['Year']), int(entry['Month'])))\n",
    "    return line,\n",
    "\n",
    "ani = animation.FuncAnimation(fig, animate, np.arange(0, len(df)), interval=100)"
   ]
  },
  {
   "cell_type": "code",
   "execution_count": null,
   "metadata": {
    "ExecuteTime": {
     "end_time": "2017-04-29T22:11:01.372532",
     "start_time": "2017-04-29T22:11:01.309528"
    },
    "collapsed": false
   },
   "outputs": [],
   "source": [
    "# line animation\n",
    "from matplotlib import pyplot as plt, animation\n",
    "fig, ax = plt.subplots()\n",
    "ax.set_xlim([0,20])\n",
    "ax.set_ylim([5,20])\n",
    "line, = sns.plt.plot([0, 20], [0, 0], 'k-')\n",
    "epoch_text = sns.plt.text(0, 19, \"Start\")\n",
    "note = sns.plt.text(0, 15, \"Start\")\n",
    "ax.set_title(\"Daily Sea Ice Extent Northern Hemisphere\")\n",
    "ax.set_ylabel('Extent (10^6 sq km)')\n",
    "#sns.plt.show()\n",
    "y_line = None\n",
    "\n",
    "def animate(i):\n",
    "    entry = df.iloc[i,:]\n",
    "    year = int(entry['Year'])\n",
    "    prev_year = int(df.iloc[i-1]['Year'])\n",
    "    if year != prev_year:\n",
    "        average = g_df.loc[prev_year]['Extent']\n",
    "        global y_line\n",
    "        if y_line is not None:\n",
    "            y_line.set_color('gray')\n",
    "        y_line, = sns.plt.plot([0, 20], [average, average], color='blue')\n",
    "        note.set_text('{} average'.format(prev_year))\n",
    "        note.set_position((15, average-1))\n",
    "        #ax.annotate('{} average'.format(prev_year), xy=(15, average))\n",
    "    #print(entry['Extent'])\n",
    "    #sns.plt.plot([0, 20], [entry['Extent'], entry['Extent']], 'k-')\n",
    "    line.set_ydata([entry['Extent'], entry['Extent']])\n",
    "    epoch_text.set_text(\"Extent for {} - {}\".format(int(entry['Year']), int(entry['Month'])))\n",
    "    #epoch_text.set_text(\"{}\".format(entry['Year']))\n",
    "    return line,\n",
    "\n",
    "#ani = animation.FuncAnimation(fig, animate, np.arange(0, len(df)), interval=100, blit=False, save_count=len(df))"
   ]
  },
  {
   "cell_type": "code",
   "execution_count": null,
   "metadata": {
    "ExecuteTime": {
     "end_time": "2017-04-29T21:51:23.181143",
     "start_time": "2017-04-29T21:51:23.175142"
    },
    "collapsed": false
   },
   "outputs": [],
   "source": [
    "#FFwriter = animation.FFMpegWriter(fps=30)\n",
    "#animation.FuncAnimation(fig, animate, np.arange(0, len(df))).save('basic_animation.gif', writer ='ffmpeg')"
   ]
  },
  {
   "cell_type": "code",
   "execution_count": null,
   "metadata": {
    "ExecuteTime": {
     "end_time": "2017-04-29T22:11:42.519885",
     "start_time": "2017-04-29T22:11:23.716810"
    },
    "collapsed": false
   },
   "outputs": [],
   "source": [
    "animation.FuncAnimation(fig, animate, np.arange(0, len(df))).save('basic_animation.mp4', writer=animation.FFMpegFileWriter(fps=30))"
   ]
  },
  {
   "cell_type": "markdown",
   "metadata": {},
   "source": [
    "# Plotting"
   ]
  },
  {
   "cell_type": "code",
   "execution_count": null,
   "metadata": {
    "ExecuteTime": {
     "end_time": "2017-04-30T15:51:05.099879",
     "start_time": "2017-04-30T15:51:05.083878"
    },
    "collapsed": false
   },
   "outputs": [],
   "source": [
    "# combine thickness data (south + north)\n",
    "n_yearly_data['Emisphere'] = 'n'\n",
    "s_yearly_data['Emisphere'] = 's'\n",
    "n_yearly_data['1979_year_diff'] = n_yearly_data['Extent'] - n_yearly_data[n_yearly_data['Year']==1979]['Extent'].iloc[0]\n",
    "s_yearly_data['1979_year_diff'] = s_yearly_data['Extent'] - s_yearly_data[s_yearly_data['Year']==1979]['Extent'].iloc[0]\n",
    "year_data = pd.concat([n_yearly_data, s_yearly_data], ignore_index=True)\n",
    "year_data['Prev_year_diff'] = year_data['Extent'] - year_data['Extent'].shift()\n",
    "year_data = year_data[(year_data['Year']!=2017) & (year_data['Year']!=1978)]\n",
    "year_data.head()"
   ]
  },
  {
   "cell_type": "code",
   "execution_count": null,
   "metadata": {
    "ExecuteTime": {
     "end_time": "2017-04-30T15:41:34.035216",
     "start_time": "2017-04-30T15:41:34.023215"
    },
    "collapsed": true
   },
   "outputs": [],
   "source": [
    "year_data.to_csv(os.path.join(os.path.pardir, 'data', 'nsidc_seaice.csv'), index_label=False)\n",
    "year_data.to_json(os.path.join(os.path.pardir, 'data', 'nsidc_seaice.json'), orient = 'records')"
   ]
  },
  {
   "cell_type": "markdown",
   "metadata": {
    "heading_collapsed": true
   },
   "source": [
    "## Seaborn"
   ]
  },
  {
   "cell_type": "code",
   "execution_count": null,
   "metadata": {
    "ExecuteTime": {
     "end_time": "2017-04-30T15:42:39.425956",
     "start_time": "2017-04-30T15:42:39.116939"
    },
    "collapsed": false,
    "hidden": true
   },
   "outputs": [],
   "source": [
    "g = sns.FacetGrid(year_data, row=\"Emisphere\")\n",
    "g.fig.suptitle('Sea Ice Extent (10^6 sq km)')\n",
    "g = g.map(sns.pointplot, 'Year', 'Extent')\n",
    "sns.plt.show()"
   ]
  },
  {
   "cell_type": "code",
   "execution_count": null,
   "metadata": {
    "ExecuteTime": {
     "end_time": "2017-04-30T15:44:17.053540",
     "start_time": "2017-04-30T15:44:16.843528"
    },
    "collapsed": false,
    "hidden": true
   },
   "outputs": [],
   "source": [
    "g = sns.FacetGrid(year_data, row=\"Emisphere\")\n",
    "g.fig.suptitle('Sea Ice Extent - Difference from previous year (10^6 sq km)')\n",
    "g = g.map(plt.bar, 'Year', 'Prev_year_diff')\n",
    "sns.plt.show()"
   ]
  },
  {
   "cell_type": "code",
   "execution_count": null,
   "metadata": {
    "ExecuteTime": {
     "end_time": "2017-04-30T15:44:30.020282",
     "start_time": "2017-04-30T15:44:29.815270"
    },
    "collapsed": false,
    "hidden": true
   },
   "outputs": [],
   "source": [
    "g = sns.FacetGrid(year_data, row=\"Emisphere\")\n",
    "g.fig.suptitle('Sea Ice Extent - Difference from 1979 (10^6 sq km)')\n",
    "g = g.map(plt.bar, 'Year', '1979_year_diff')\n",
    "sns.plt.show()"
   ]
  },
  {
   "cell_type": "markdown",
   "metadata": {
    "heading_collapsed": true
   },
   "source": [
    "## Matplotlib"
   ]
  },
  {
   "cell_type": "code",
   "execution_count": null,
   "metadata": {
    "ExecuteTime": {
     "end_time": "2017-04-30T11:27:18.310639",
     "start_time": "2017-04-30T11:27:16.030508"
    },
    "collapsed": true,
    "hidden": true
   },
   "outputs": [],
   "source": [
    "fig, axes = sns.plt.subplots(1,2)\n",
    "axes[0].bar(n_dif.index.values, n_dif.values)\n",
    "axes[0].set_title('North Sea Ice Extent')\n",
    "axes[1].bar(s_dif.index.values, s_dif.values)\n",
    "axes[1].set_title('South Sea Ice Extent')\n",
    "sns.plt.show()"
   ]
  },
  {
   "cell_type": "code",
   "execution_count": null,
   "metadata": {
    "ExecuteTime": {
     "end_time": "2017-04-30T08:51:22.963543",
     "start_time": "2017-04-30T08:51:22.728530"
    },
    "collapsed": true,
    "hidden": true
   },
   "outputs": [],
   "source": [
    "fig, axes = sns.plt.subplots(1,2)\n",
    "axes[0].bar(n_dif.index.values, n_dif.values)\n",
    "axes[0].set_title('North Sea Ice Extent')\n",
    "axes[1].bar(s_dif.index.values, s_dif.values)\n",
    "axes[1].set_title('South Sea Ice Extent')\n",
    "sns.plt.show()"
   ]
  },
  {
   "cell_type": "markdown",
   "metadata": {},
   "source": [
    "## Plotly"
   ]
  },
  {
   "cell_type": "code",
   "execution_count": null,
   "metadata": {
    "ExecuteTime": {
     "end_time": "2017-04-30T15:58:55.174766",
     "start_time": "2017-04-30T15:58:55.170766"
    },
    "collapsed": false
   },
   "outputs": [],
   "source": [
    "import plotly.plotly as py\n",
    "py.sign_in('username', 'password')"
   ]
  },
  {
   "cell_type": "code",
   "execution_count": null,
   "metadata": {
    "ExecuteTime": {
     "end_time": "2017-04-30T15:58:59.635021",
     "start_time": "2017-04-30T15:58:59.626021"
    },
    "collapsed": false
   },
   "outputs": [],
   "source": [
    "import cufflinks as cf\n",
    "cf.go_online()"
   ]
  },
  {
   "cell_type": "code",
   "execution_count": null,
   "metadata": {
    "ExecuteTime": {
     "end_time": "2017-04-30T15:59:00.876092",
     "start_time": "2017-04-30T15:59:00.866091"
    },
    "collapsed": false
   },
   "outputs": [],
   "source": [
    "stacked_data = year_data[['Year', 'Extent', 'Emisphere']].set_index(['Year', 'Emisphere']).unstack(level=1)\n",
    "stacked_data.columns = ['North Hemisphere', 'South Hemisphere']\n",
    "stacked_data.head()"
   ]
  },
  {
   "cell_type": "code",
   "execution_count": null,
   "metadata": {
    "ExecuteTime": {
     "end_time": "2017-04-30T12:07:51.079785",
     "start_time": "2017-04-30T12:07:49.186677"
    },
    "collapsed": false
   },
   "outputs": [],
   "source": [
    "stacked_data.iplot(title=\"Sea Ice Extent\", yTitle = 'Sea Ice Extent (10^6 sq km)')"
   ]
  },
  {
   "cell_type": "code",
   "execution_count": null,
   "metadata": {
    "ExecuteTime": {
     "end_time": "2017-04-30T15:59:11.947725",
     "start_time": "2017-04-30T15:59:10.204626"
    },
    "collapsed": false
   },
   "outputs": [],
   "source": [
    "stacked_data = year_data[year_data['Year']!=1979][['Year', 'Prev_year_diff', 'Emisphere']].set_index(['Year', 'Emisphere']).unstack(level=1)\n",
    "stacked_data.columns = ['North Hemisphere', 'South Hemisphere']\n",
    "stacked_data.iplot(title=\"Sea Ice Extent - Difference from Previous Year\", kind='bar', yTitle = 'Difference from previous year (10^6 sq km)')"
   ]
  },
  {
   "cell_type": "code",
   "execution_count": null,
   "metadata": {
    "ExecuteTime": {
     "end_time": "2017-04-30T15:59:35.673082",
     "start_time": "2017-04-30T15:59:33.997987"
    },
    "collapsed": false
   },
   "outputs": [],
   "source": [
    "stacked_data = year_data[['Year', '1979_year_diff', 'Emisphere']].set_index(['Year', 'Emisphere']).unstack(level=1)\n",
    "stacked_data.columns = ['North Hemisphere', 'South Hemisphere']\n",
    "stacked_data.iplot(title='Sea Ice Extent - Difference from 1979', kind='bar', yTitle = 'Difference from 1979 (10^6 sq km)')"
   ]
  }
 ],
 "metadata": {
  "anaconda-cloud": {},
  "kernelspec": {
   "display_name": "Python [conda env:kaggle]",
   "language": "python",
   "name": "conda-env-kaggle-py"
  },
  "language_info": {
   "codemirror_mode": {
    "name": "ipython",
    "version": 3
   },
   "file_extension": ".py",
   "mimetype": "text/x-python",
   "name": "python",
   "nbconvert_exporter": "python",
   "pygments_lexer": "ipython3",
   "version": "3.5.2"
  },
  "toc": {
   "colors": {
    "hover_highlight": "#DAA520",
    "running_highlight": "#FF0000",
    "selected_highlight": "#FFD700"
   },
   "moveMenuLeft": true,
   "nav_menu": {
    "height": "12px",
    "width": "252px"
   },
   "navigate_menu": true,
   "number_sections": true,
   "sideBar": true,
   "threshold": 4,
   "toc_cell": false,
   "toc_section_display": "block",
   "toc_window_display": false
  }
 },
 "nbformat": 4,
 "nbformat_minor": 0
}
